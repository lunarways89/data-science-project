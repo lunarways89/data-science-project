{
  "nbformat": 4,
  "nbformat_minor": 0,
  "metadata": {
    "colab": {
      "provenance": [],
      "collapsed_sections": [
        "o3RmNQi-DuXO",
        "apH_OUiKD54r",
        "anagCCYBD5yv",
        "7qrpLpOaD6UP",
        "HzWOoJrBEGUC"
      ],
      "toc_visible": true,
      "authorship_tag": "ABX9TyN0mzx0jcAPggDONjZ/YvNA",
      "include_colab_link": true
    },
    "kernelspec": {
      "name": "python3",
      "display_name": "Python 3"
    },
    "language_info": {
      "name": "python"
    }
  },
  "cells": [
    {
      "cell_type": "markdown",
      "metadata": {
        "id": "view-in-github",
        "colab_type": "text"
      },
      "source": [
        "<a href=\"https://colab.research.google.com/github/lunarways89/data-science-project/blob/main/MySkill/Data_Analysis_My_Skill_Short_Class_6_Jan_2024_Dhanu.ipynb\" target=\"_parent\"><img src=\"https://colab.research.google.com/assets/colab-badge.svg\" alt=\"Open In Colab\"/></a>"
      ]
    },
    {
      "cell_type": "markdown",
      "source": [
        "# Superstore Dataset"
      ],
      "metadata": {
        "id": "I8Bm0QAl4aL2"
      }
    },
    {
      "cell_type": "markdown",
      "source": [
        "Import and display data"
      ],
      "metadata": {
        "id": "uS0rJwsO_oUI"
      }
    },
    {
      "cell_type": "code",
      "source": [
        "import pandas as pd\n",
        "\n",
        "dataset = pd.read_csv('superstore.csv')\n",
        "print(dataset)"
      ],
      "metadata": {
        "colab": {
          "base_uri": "https://localhost:8080/"
        },
        "collapsed": true,
        "id": "dbTAFvfk4gRW",
        "outputId": "ae42f513-0cd0-4c97-f907-cb9f1ec61e9a"
      },
      "execution_count": 6,
      "outputs": [
        {
          "output_type": "stream",
          "name": "stdout",
          "text": [
            "      Row ID        Order ID  Order Date   Ship Date       Ship Mode  \\\n",
            "0          1  CA-2016-152156   11/8/2016  11/11/2016    Second Class   \n",
            "1          2  CA-2016-152156   11/8/2016  11/11/2016    Second Class   \n",
            "2          3  CA-2016-138688   6/12/2016   6/16/2016    Second Class   \n",
            "3          4  US-2015-108966  10/11/2015  10/18/2015  Standard Class   \n",
            "4          5  US-2015-108966  10/11/2015  10/18/2015  Standard Class   \n",
            "...      ...             ...         ...         ...             ...   \n",
            "9989    9990  CA-2014-110422   1/21/2014   1/23/2014    Second Class   \n",
            "9990    9991  CA-2017-121258   2/26/2017    3/3/2017  Standard Class   \n",
            "9991    9992  CA-2017-121258   2/26/2017    3/3/2017  Standard Class   \n",
            "9992    9993  CA-2017-121258   2/26/2017    3/3/2017  Standard Class   \n",
            "9993    9994  CA-2017-119914    5/4/2017    5/9/2017    Second Class   \n",
            "\n",
            "     Customer ID     Customer Name    Segment        Country             City  \\\n",
            "0       CG-12520       Claire Gute   Consumer  United States        Henderson   \n",
            "1       CG-12520       Claire Gute   Consumer  United States        Henderson   \n",
            "2       DV-13045   Darrin Van Huff  Corporate  United States      Los Angeles   \n",
            "3       SO-20335    Sean O'Donnell   Consumer  United States  Fort Lauderdale   \n",
            "4       SO-20335    Sean O'Donnell   Consumer  United States  Fort Lauderdale   \n",
            "...          ...               ...        ...            ...              ...   \n",
            "9989    TB-21400  Tom Boeckenhauer   Consumer  United States            Miami   \n",
            "9990    DB-13060       Dave Brooks   Consumer  United States       Costa Mesa   \n",
            "9991    DB-13060       Dave Brooks   Consumer  United States       Costa Mesa   \n",
            "9992    DB-13060       Dave Brooks   Consumer  United States       Costa Mesa   \n",
            "9993    CC-12220      Chris Cortes   Consumer  United States      Westminster   \n",
            "\n",
            "      ... Postal Code  Region       Product ID         Category Sub-Category  \\\n",
            "0     ...       42420   South  FUR-BO-10001798        Furniture    Bookcases   \n",
            "1     ...       42420   South  FUR-CH-10000454        Furniture       Chairs   \n",
            "2     ...       90036    West  OFF-LA-10000240  Office Supplies       Labels   \n",
            "3     ...       33311   South  FUR-TA-10000577        Furniture       Tables   \n",
            "4     ...       33311   South  OFF-ST-10000760  Office Supplies      Storage   \n",
            "...   ...         ...     ...              ...              ...          ...   \n",
            "9989  ...       33180   South  FUR-FU-10001889        Furniture  Furnishings   \n",
            "9990  ...       92627    West  FUR-FU-10000747        Furniture  Furnishings   \n",
            "9991  ...       92627    West  TEC-PH-10003645       Technology       Phones   \n",
            "9992  ...       92627    West  OFF-PA-10004041  Office Supplies        Paper   \n",
            "9993  ...       92683    West  OFF-AP-10002684  Office Supplies   Appliances   \n",
            "\n",
            "                                           Product Name     Sales  Quantity  \\\n",
            "0                     Bush Somerset Collection Bookcase  261.9600         2   \n",
            "1     Hon Deluxe Fabric Upholstered Stacking Chairs,...  731.9400         3   \n",
            "2     Self-Adhesive Address Labels for Typewriters b...   14.6200         2   \n",
            "3         Bretford CR4500 Series Slim Rectangular Table  957.5775         5   \n",
            "4                        Eldon Fold 'N Roll Cart System   22.3680         2   \n",
            "...                                                 ...       ...       ...   \n",
            "9989                             Ultra Door Pull Handle   25.2480         3   \n",
            "9990  Tenex B1-RE Series Chair Mats for Low Pile Car...   91.9600         2   \n",
            "9991                              Aastra 57i VoIP phone  258.5760         2   \n",
            "9992  It's Hot Message Books with Stickers, 2 3/4\" x 5\"   29.6000         4   \n",
            "9993  Acco 7-Outlet Masterpiece Power Center, Wihtou...  243.1600         2   \n",
            "\n",
            "      Discount    Profit  \n",
            "0         0.00   41.9136  \n",
            "1         0.00  219.5820  \n",
            "2         0.00    6.8714  \n",
            "3         0.45 -383.0310  \n",
            "4         0.20    2.5164  \n",
            "...        ...       ...  \n",
            "9989      0.20    4.1028  \n",
            "9990      0.00   15.6332  \n",
            "9991      0.20   19.3932  \n",
            "9992      0.00   13.3200  \n",
            "9993      0.00   72.9480  \n",
            "\n",
            "[9994 rows x 21 columns]\n"
          ]
        }
      ]
    },
    {
      "cell_type": "code",
      "source": [
        "dataset.head()"
      ],
      "metadata": {
        "colab": {
          "base_uri": "https://localhost:8080/",
          "height": 585
        },
        "collapsed": true,
        "id": "Yy4wvR9fO06O",
        "outputId": "8d5f2e04-7f89-4200-88d9-35cb7fe9f9bf"
      },
      "execution_count": 8,
      "outputs": [
        {
          "output_type": "execute_result",
          "data": {
            "text/plain": [
              "   Row ID        Order ID  Order Date   Ship Date       Ship Mode Customer ID  \\\n",
              "0       1  CA-2016-152156   11/8/2016  11/11/2016    Second Class    CG-12520   \n",
              "1       2  CA-2016-152156   11/8/2016  11/11/2016    Second Class    CG-12520   \n",
              "2       3  CA-2016-138688   6/12/2016   6/16/2016    Second Class    DV-13045   \n",
              "3       4  US-2015-108966  10/11/2015  10/18/2015  Standard Class    SO-20335   \n",
              "4       5  US-2015-108966  10/11/2015  10/18/2015  Standard Class    SO-20335   \n",
              "\n",
              "     Customer Name    Segment        Country             City  ...  \\\n",
              "0      Claire Gute   Consumer  United States        Henderson  ...   \n",
              "1      Claire Gute   Consumer  United States        Henderson  ...   \n",
              "2  Darrin Van Huff  Corporate  United States      Los Angeles  ...   \n",
              "3   Sean O'Donnell   Consumer  United States  Fort Lauderdale  ...   \n",
              "4   Sean O'Donnell   Consumer  United States  Fort Lauderdale  ...   \n",
              "\n",
              "  Postal Code  Region       Product ID         Category Sub-Category  \\\n",
              "0       42420   South  FUR-BO-10001798        Furniture    Bookcases   \n",
              "1       42420   South  FUR-CH-10000454        Furniture       Chairs   \n",
              "2       90036    West  OFF-LA-10000240  Office Supplies       Labels   \n",
              "3       33311   South  FUR-TA-10000577        Furniture       Tables   \n",
              "4       33311   South  OFF-ST-10000760  Office Supplies      Storage   \n",
              "\n",
              "                                        Product Name     Sales  Quantity  \\\n",
              "0                  Bush Somerset Collection Bookcase  261.9600         2   \n",
              "1  Hon Deluxe Fabric Upholstered Stacking Chairs,...  731.9400         3   \n",
              "2  Self-Adhesive Address Labels for Typewriters b...   14.6200         2   \n",
              "3      Bretford CR4500 Series Slim Rectangular Table  957.5775         5   \n",
              "4                     Eldon Fold 'N Roll Cart System   22.3680         2   \n",
              "\n",
              "   Discount    Profit  \n",
              "0      0.00   41.9136  \n",
              "1      0.00  219.5820  \n",
              "2      0.00    6.8714  \n",
              "3      0.45 -383.0310  \n",
              "4      0.20    2.5164  \n",
              "\n",
              "[5 rows x 21 columns]"
            ],
            "text/html": [
              "\n",
              "  <div id=\"df-c72230f5-71b5-47d1-b7b5-87626b4fd239\" class=\"colab-df-container\">\n",
              "    <div>\n",
              "<style scoped>\n",
              "    .dataframe tbody tr th:only-of-type {\n",
              "        vertical-align: middle;\n",
              "    }\n",
              "\n",
              "    .dataframe tbody tr th {\n",
              "        vertical-align: top;\n",
              "    }\n",
              "\n",
              "    .dataframe thead th {\n",
              "        text-align: right;\n",
              "    }\n",
              "</style>\n",
              "<table border=\"1\" class=\"dataframe\">\n",
              "  <thead>\n",
              "    <tr style=\"text-align: right;\">\n",
              "      <th></th>\n",
              "      <th>Row ID</th>\n",
              "      <th>Order ID</th>\n",
              "      <th>Order Date</th>\n",
              "      <th>Ship Date</th>\n",
              "      <th>Ship Mode</th>\n",
              "      <th>Customer ID</th>\n",
              "      <th>Customer Name</th>\n",
              "      <th>Segment</th>\n",
              "      <th>Country</th>\n",
              "      <th>City</th>\n",
              "      <th>...</th>\n",
              "      <th>Postal Code</th>\n",
              "      <th>Region</th>\n",
              "      <th>Product ID</th>\n",
              "      <th>Category</th>\n",
              "      <th>Sub-Category</th>\n",
              "      <th>Product Name</th>\n",
              "      <th>Sales</th>\n",
              "      <th>Quantity</th>\n",
              "      <th>Discount</th>\n",
              "      <th>Profit</th>\n",
              "    </tr>\n",
              "  </thead>\n",
              "  <tbody>\n",
              "    <tr>\n",
              "      <th>0</th>\n",
              "      <td>1</td>\n",
              "      <td>CA-2016-152156</td>\n",
              "      <td>11/8/2016</td>\n",
              "      <td>11/11/2016</td>\n",
              "      <td>Second Class</td>\n",
              "      <td>CG-12520</td>\n",
              "      <td>Claire Gute</td>\n",
              "      <td>Consumer</td>\n",
              "      <td>United States</td>\n",
              "      <td>Henderson</td>\n",
              "      <td>...</td>\n",
              "      <td>42420</td>\n",
              "      <td>South</td>\n",
              "      <td>FUR-BO-10001798</td>\n",
              "      <td>Furniture</td>\n",
              "      <td>Bookcases</td>\n",
              "      <td>Bush Somerset Collection Bookcase</td>\n",
              "      <td>261.9600</td>\n",
              "      <td>2</td>\n",
              "      <td>0.00</td>\n",
              "      <td>41.9136</td>\n",
              "    </tr>\n",
              "    <tr>\n",
              "      <th>1</th>\n",
              "      <td>2</td>\n",
              "      <td>CA-2016-152156</td>\n",
              "      <td>11/8/2016</td>\n",
              "      <td>11/11/2016</td>\n",
              "      <td>Second Class</td>\n",
              "      <td>CG-12520</td>\n",
              "      <td>Claire Gute</td>\n",
              "      <td>Consumer</td>\n",
              "      <td>United States</td>\n",
              "      <td>Henderson</td>\n",
              "      <td>...</td>\n",
              "      <td>42420</td>\n",
              "      <td>South</td>\n",
              "      <td>FUR-CH-10000454</td>\n",
              "      <td>Furniture</td>\n",
              "      <td>Chairs</td>\n",
              "      <td>Hon Deluxe Fabric Upholstered Stacking Chairs,...</td>\n",
              "      <td>731.9400</td>\n",
              "      <td>3</td>\n",
              "      <td>0.00</td>\n",
              "      <td>219.5820</td>\n",
              "    </tr>\n",
              "    <tr>\n",
              "      <th>2</th>\n",
              "      <td>3</td>\n",
              "      <td>CA-2016-138688</td>\n",
              "      <td>6/12/2016</td>\n",
              "      <td>6/16/2016</td>\n",
              "      <td>Second Class</td>\n",
              "      <td>DV-13045</td>\n",
              "      <td>Darrin Van Huff</td>\n",
              "      <td>Corporate</td>\n",
              "      <td>United States</td>\n",
              "      <td>Los Angeles</td>\n",
              "      <td>...</td>\n",
              "      <td>90036</td>\n",
              "      <td>West</td>\n",
              "      <td>OFF-LA-10000240</td>\n",
              "      <td>Office Supplies</td>\n",
              "      <td>Labels</td>\n",
              "      <td>Self-Adhesive Address Labels for Typewriters b...</td>\n",
              "      <td>14.6200</td>\n",
              "      <td>2</td>\n",
              "      <td>0.00</td>\n",
              "      <td>6.8714</td>\n",
              "    </tr>\n",
              "    <tr>\n",
              "      <th>3</th>\n",
              "      <td>4</td>\n",
              "      <td>US-2015-108966</td>\n",
              "      <td>10/11/2015</td>\n",
              "      <td>10/18/2015</td>\n",
              "      <td>Standard Class</td>\n",
              "      <td>SO-20335</td>\n",
              "      <td>Sean O'Donnell</td>\n",
              "      <td>Consumer</td>\n",
              "      <td>United States</td>\n",
              "      <td>Fort Lauderdale</td>\n",
              "      <td>...</td>\n",
              "      <td>33311</td>\n",
              "      <td>South</td>\n",
              "      <td>FUR-TA-10000577</td>\n",
              "      <td>Furniture</td>\n",
              "      <td>Tables</td>\n",
              "      <td>Bretford CR4500 Series Slim Rectangular Table</td>\n",
              "      <td>957.5775</td>\n",
              "      <td>5</td>\n",
              "      <td>0.45</td>\n",
              "      <td>-383.0310</td>\n",
              "    </tr>\n",
              "    <tr>\n",
              "      <th>4</th>\n",
              "      <td>5</td>\n",
              "      <td>US-2015-108966</td>\n",
              "      <td>10/11/2015</td>\n",
              "      <td>10/18/2015</td>\n",
              "      <td>Standard Class</td>\n",
              "      <td>SO-20335</td>\n",
              "      <td>Sean O'Donnell</td>\n",
              "      <td>Consumer</td>\n",
              "      <td>United States</td>\n",
              "      <td>Fort Lauderdale</td>\n",
              "      <td>...</td>\n",
              "      <td>33311</td>\n",
              "      <td>South</td>\n",
              "      <td>OFF-ST-10000760</td>\n",
              "      <td>Office Supplies</td>\n",
              "      <td>Storage</td>\n",
              "      <td>Eldon Fold 'N Roll Cart System</td>\n",
              "      <td>22.3680</td>\n",
              "      <td>2</td>\n",
              "      <td>0.20</td>\n",
              "      <td>2.5164</td>\n",
              "    </tr>\n",
              "  </tbody>\n",
              "</table>\n",
              "<p>5 rows × 21 columns</p>\n",
              "</div>\n",
              "    <div class=\"colab-df-buttons\">\n",
              "\n",
              "  <div class=\"colab-df-container\">\n",
              "    <button class=\"colab-df-convert\" onclick=\"convertToInteractive('df-c72230f5-71b5-47d1-b7b5-87626b4fd239')\"\n",
              "            title=\"Convert this dataframe to an interactive table.\"\n",
              "            style=\"display:none;\">\n",
              "\n",
              "  <svg xmlns=\"http://www.w3.org/2000/svg\" height=\"24px\" viewBox=\"0 -960 960 960\">\n",
              "    <path d=\"M120-120v-720h720v720H120Zm60-500h600v-160H180v160Zm220 220h160v-160H400v160Zm0 220h160v-160H400v160ZM180-400h160v-160H180v160Zm440 0h160v-160H620v160ZM180-180h160v-160H180v160Zm440 0h160v-160H620v160Z\"/>\n",
              "  </svg>\n",
              "    </button>\n",
              "\n",
              "  <style>\n",
              "    .colab-df-container {\n",
              "      display:flex;\n",
              "      gap: 12px;\n",
              "    }\n",
              "\n",
              "    .colab-df-convert {\n",
              "      background-color: #E8F0FE;\n",
              "      border: none;\n",
              "      border-radius: 50%;\n",
              "      cursor: pointer;\n",
              "      display: none;\n",
              "      fill: #1967D2;\n",
              "      height: 32px;\n",
              "      padding: 0 0 0 0;\n",
              "      width: 32px;\n",
              "    }\n",
              "\n",
              "    .colab-df-convert:hover {\n",
              "      background-color: #E2EBFA;\n",
              "      box-shadow: 0px 1px 2px rgba(60, 64, 67, 0.3), 0px 1px 3px 1px rgba(60, 64, 67, 0.15);\n",
              "      fill: #174EA6;\n",
              "    }\n",
              "\n",
              "    .colab-df-buttons div {\n",
              "      margin-bottom: 4px;\n",
              "    }\n",
              "\n",
              "    [theme=dark] .colab-df-convert {\n",
              "      background-color: #3B4455;\n",
              "      fill: #D2E3FC;\n",
              "    }\n",
              "\n",
              "    [theme=dark] .colab-df-convert:hover {\n",
              "      background-color: #434B5C;\n",
              "      box-shadow: 0px 1px 3px 1px rgba(0, 0, 0, 0.15);\n",
              "      filter: drop-shadow(0px 1px 2px rgba(0, 0, 0, 0.3));\n",
              "      fill: #FFFFFF;\n",
              "    }\n",
              "  </style>\n",
              "\n",
              "    <script>\n",
              "      const buttonEl =\n",
              "        document.querySelector('#df-c72230f5-71b5-47d1-b7b5-87626b4fd239 button.colab-df-convert');\n",
              "      buttonEl.style.display =\n",
              "        google.colab.kernel.accessAllowed ? 'block' : 'none';\n",
              "\n",
              "      async function convertToInteractive(key) {\n",
              "        const element = document.querySelector('#df-c72230f5-71b5-47d1-b7b5-87626b4fd239');\n",
              "        const dataTable =\n",
              "          await google.colab.kernel.invokeFunction('convertToInteractive',\n",
              "                                                    [key], {});\n",
              "        if (!dataTable) return;\n",
              "\n",
              "        const docLinkHtml = 'Like what you see? Visit the ' +\n",
              "          '<a target=\"_blank\" href=https://colab.research.google.com/notebooks/data_table.ipynb>data table notebook</a>'\n",
              "          + ' to learn more about interactive tables.';\n",
              "        element.innerHTML = '';\n",
              "        dataTable['output_type'] = 'display_data';\n",
              "        await google.colab.output.renderOutput(dataTable, element);\n",
              "        const docLink = document.createElement('div');\n",
              "        docLink.innerHTML = docLinkHtml;\n",
              "        element.appendChild(docLink);\n",
              "      }\n",
              "    </script>\n",
              "  </div>\n",
              "\n",
              "\n",
              "<div id=\"df-9a5b4604-c5bc-4b4d-a56b-2a70e1b93b33\">\n",
              "  <button class=\"colab-df-quickchart\" onclick=\"quickchart('df-9a5b4604-c5bc-4b4d-a56b-2a70e1b93b33')\"\n",
              "            title=\"Suggest charts\"\n",
              "            style=\"display:none;\">\n",
              "\n",
              "<svg xmlns=\"http://www.w3.org/2000/svg\" height=\"24px\"viewBox=\"0 0 24 24\"\n",
              "     width=\"24px\">\n",
              "    <g>\n",
              "        <path d=\"M19 3H5c-1.1 0-2 .9-2 2v14c0 1.1.9 2 2 2h14c1.1 0 2-.9 2-2V5c0-1.1-.9-2-2-2zM9 17H7v-7h2v7zm4 0h-2V7h2v10zm4 0h-2v-4h2v4z\"/>\n",
              "    </g>\n",
              "</svg>\n",
              "  </button>\n",
              "\n",
              "<style>\n",
              "  .colab-df-quickchart {\n",
              "      --bg-color: #E8F0FE;\n",
              "      --fill-color: #1967D2;\n",
              "      --hover-bg-color: #E2EBFA;\n",
              "      --hover-fill-color: #174EA6;\n",
              "      --disabled-fill-color: #AAA;\n",
              "      --disabled-bg-color: #DDD;\n",
              "  }\n",
              "\n",
              "  [theme=dark] .colab-df-quickchart {\n",
              "      --bg-color: #3B4455;\n",
              "      --fill-color: #D2E3FC;\n",
              "      --hover-bg-color: #434B5C;\n",
              "      --hover-fill-color: #FFFFFF;\n",
              "      --disabled-bg-color: #3B4455;\n",
              "      --disabled-fill-color: #666;\n",
              "  }\n",
              "\n",
              "  .colab-df-quickchart {\n",
              "    background-color: var(--bg-color);\n",
              "    border: none;\n",
              "    border-radius: 50%;\n",
              "    cursor: pointer;\n",
              "    display: none;\n",
              "    fill: var(--fill-color);\n",
              "    height: 32px;\n",
              "    padding: 0;\n",
              "    width: 32px;\n",
              "  }\n",
              "\n",
              "  .colab-df-quickchart:hover {\n",
              "    background-color: var(--hover-bg-color);\n",
              "    box-shadow: 0 1px 2px rgba(60, 64, 67, 0.3), 0 1px 3px 1px rgba(60, 64, 67, 0.15);\n",
              "    fill: var(--button-hover-fill-color);\n",
              "  }\n",
              "\n",
              "  .colab-df-quickchart-complete:disabled,\n",
              "  .colab-df-quickchart-complete:disabled:hover {\n",
              "    background-color: var(--disabled-bg-color);\n",
              "    fill: var(--disabled-fill-color);\n",
              "    box-shadow: none;\n",
              "  }\n",
              "\n",
              "  .colab-df-spinner {\n",
              "    border: 2px solid var(--fill-color);\n",
              "    border-color: transparent;\n",
              "    border-bottom-color: var(--fill-color);\n",
              "    animation:\n",
              "      spin 1s steps(1) infinite;\n",
              "  }\n",
              "\n",
              "  @keyframes spin {\n",
              "    0% {\n",
              "      border-color: transparent;\n",
              "      border-bottom-color: var(--fill-color);\n",
              "      border-left-color: var(--fill-color);\n",
              "    }\n",
              "    20% {\n",
              "      border-color: transparent;\n",
              "      border-left-color: var(--fill-color);\n",
              "      border-top-color: var(--fill-color);\n",
              "    }\n",
              "    30% {\n",
              "      border-color: transparent;\n",
              "      border-left-color: var(--fill-color);\n",
              "      border-top-color: var(--fill-color);\n",
              "      border-right-color: var(--fill-color);\n",
              "    }\n",
              "    40% {\n",
              "      border-color: transparent;\n",
              "      border-right-color: var(--fill-color);\n",
              "      border-top-color: var(--fill-color);\n",
              "    }\n",
              "    60% {\n",
              "      border-color: transparent;\n",
              "      border-right-color: var(--fill-color);\n",
              "    }\n",
              "    80% {\n",
              "      border-color: transparent;\n",
              "      border-right-color: var(--fill-color);\n",
              "      border-bottom-color: var(--fill-color);\n",
              "    }\n",
              "    90% {\n",
              "      border-color: transparent;\n",
              "      border-bottom-color: var(--fill-color);\n",
              "    }\n",
              "  }\n",
              "</style>\n",
              "\n",
              "  <script>\n",
              "    async function quickchart(key) {\n",
              "      const quickchartButtonEl =\n",
              "        document.querySelector('#' + key + ' button');\n",
              "      quickchartButtonEl.disabled = true;  // To prevent multiple clicks.\n",
              "      quickchartButtonEl.classList.add('colab-df-spinner');\n",
              "      try {\n",
              "        const charts = await google.colab.kernel.invokeFunction(\n",
              "            'suggestCharts', [key], {});\n",
              "      } catch (error) {\n",
              "        console.error('Error during call to suggestCharts:', error);\n",
              "      }\n",
              "      quickchartButtonEl.classList.remove('colab-df-spinner');\n",
              "      quickchartButtonEl.classList.add('colab-df-quickchart-complete');\n",
              "    }\n",
              "    (() => {\n",
              "      let quickchartButtonEl =\n",
              "        document.querySelector('#df-9a5b4604-c5bc-4b4d-a56b-2a70e1b93b33 button');\n",
              "      quickchartButtonEl.style.display =\n",
              "        google.colab.kernel.accessAllowed ? 'block' : 'none';\n",
              "    })();\n",
              "  </script>\n",
              "</div>\n",
              "\n",
              "    </div>\n",
              "  </div>\n"
            ],
            "application/vnd.google.colaboratory.intrinsic+json": {
              "type": "dataframe",
              "variable_name": "dataset"
            }
          },
          "metadata": {},
          "execution_count": 8
        }
      ]
    },
    {
      "cell_type": "code",
      "source": [
        "# Display the columns of the dataset\n",
        "print(\"Columns in the dataset:\")\n",
        "print(dataset.columns)"
      ],
      "metadata": {
        "colab": {
          "base_uri": "https://localhost:8080/"
        },
        "id": "64jLQ8NPYW3n",
        "outputId": "c8590995-91a1-4346-b0b9-04f1dcca5a37"
      },
      "execution_count": 10,
      "outputs": [
        {
          "output_type": "stream",
          "name": "stdout",
          "text": [
            "Columns in the dataset:\n",
            "Index(['Row ID', 'Order ID', 'Order Date', 'Ship Date', 'Ship Mode',\n",
            "       'Customer ID', 'Customer Name', 'Segment', 'Country', 'City', 'State',\n",
            "       'Postal Code', 'Region', 'Product ID', 'Category', 'Sub-Category',\n",
            "       'Product Name', 'Sales', 'Quantity', 'Discount', 'Profit'],\n",
            "      dtype='object')\n"
          ]
        }
      ]
    },
    {
      "cell_type": "markdown",
      "source": [
        "# Data Structure"
      ],
      "metadata": {
        "id": "zEFwae8hUu-O"
      }
    },
    {
      "cell_type": "markdown",
      "source": [
        "## List Section"
      ],
      "metadata": {
        "id": "o3RmNQi-DuXO"
      }
    },
    {
      "cell_type": "code",
      "source": [
        "# var list penampung nilai\n",
        "ship_mode_list = dataset['Ship Mode'].unique()\n",
        "state_list = dataset['State'].unique()\n",
        "category_list = dataset['Category'].unique()\n",
        "sub_category_list = dataset['Sub-Category'].unique()"
      ],
      "metadata": {
        "collapsed": true,
        "id": "K9-Dscwa_m7j"
      },
      "execution_count": 11,
      "outputs": []
    },
    {
      "cell_type": "code",
      "source": [
        "# menampilkaan value list\n",
        "print('Ship Mode :', ship_mode_list)\n",
        "print('State :', state_list)\n",
        "print('Category :', category_list)\n",
        "print('Sub-Category :', sub_category_list)"
      ],
      "metadata": {
        "colab": {
          "base_uri": "https://localhost:8080/"
        },
        "id": "g-SjNunnH0m4",
        "outputId": "7cbdd6e5-eb11-4121-fc07-9c4df9d5b195"
      },
      "execution_count": 12,
      "outputs": [
        {
          "output_type": "stream",
          "name": "stdout",
          "text": [
            "Ship Mode : ['Second Class' 'Standard Class' 'First Class' 'Same Day']\n",
            "State : ['Kentucky' 'California' 'Florida' 'North Carolina' 'Washington' 'Texas'\n",
            " 'Wisconsin' 'Utah' 'Nebraska' 'Pennsylvania' 'Illinois' 'Minnesota'\n",
            " 'Michigan' 'Delaware' 'Indiana' 'New York' 'Arizona' 'Virginia'\n",
            " 'Tennessee' 'Alabama' 'South Carolina' 'Oregon' 'Colorado' 'Iowa' 'Ohio'\n",
            " 'Missouri' 'Oklahoma' 'New Mexico' 'Louisiana' 'Connecticut' 'New Jersey'\n",
            " 'Massachusetts' 'Georgia' 'Nevada' 'Rhode Island' 'Mississippi'\n",
            " 'Arkansas' 'Montana' 'New Hampshire' 'Maryland' 'District of Columbia'\n",
            " 'Kansas' 'Vermont' 'Maine' 'South Dakota' 'Idaho' 'North Dakota'\n",
            " 'Wyoming' 'West Virginia']\n",
            "Category : ['Furniture' 'Office Supplies' 'Technology']\n",
            "Sub-Category : ['Bookcases' 'Chairs' 'Labels' 'Tables' 'Storage' 'Furnishings' 'Art'\n",
            " 'Phones' 'Binders' 'Appliances' 'Paper' 'Accessories' 'Envelopes'\n",
            " 'Fasteners' 'Supplies' 'Machines' 'Copiers']\n"
          ]
        }
      ]
    },
    {
      "cell_type": "code",
      "source": [
        "# menampilkaan value list tanpa kurung dan petik\n",
        "print('Ship Mode :', ', '.join(ship_mode_list))\n",
        "print('State :',  ', '.join(state_list))\n",
        "print('Category :',  ', '.join(category_list))\n",
        "print('Sub-Category :',  ', '.join(sub_category_list))"
      ],
      "metadata": {
        "colab": {
          "base_uri": "https://localhost:8080/"
        },
        "id": "I_txZxqIH8u3",
        "outputId": "3ed3e38d-2331-46fb-8cdf-f31d1abda556"
      },
      "execution_count": 13,
      "outputs": [
        {
          "output_type": "stream",
          "name": "stdout",
          "text": [
            "Ship Mode : Second Class, Standard Class, First Class, Same Day\n",
            "State : Kentucky, California, Florida, North Carolina, Washington, Texas, Wisconsin, Utah, Nebraska, Pennsylvania, Illinois, Minnesota, Michigan, Delaware, Indiana, New York, Arizona, Virginia, Tennessee, Alabama, South Carolina, Oregon, Colorado, Iowa, Ohio, Missouri, Oklahoma, New Mexico, Louisiana, Connecticut, New Jersey, Massachusetts, Georgia, Nevada, Rhode Island, Mississippi, Arkansas, Montana, New Hampshire, Maryland, District of Columbia, Kansas, Vermont, Maine, South Dakota, Idaho, North Dakota, Wyoming, West Virginia\n",
            "Category : Furniture, Office Supplies, Technology\n",
            "Sub-Category : Bookcases, Chairs, Labels, Tables, Storage, Furnishings, Art, Phones, Binders, Appliances, Paper, Accessories, Envelopes, Fasteners, Supplies, Machines, Copiers\n"
          ]
        }
      ]
    },
    {
      "cell_type": "code",
      "source": [
        "# membuat tampilan table list\n",
        "\n",
        "print(\"Ship Mode:\")\n",
        "print(\"-\" * 12)  # separator line\n",
        "for mode in ship_mode_list:\n",
        "    print(f\"| {mode:<10} |\")  # Format each mode within a table-like structure\n",
        "print(\"-\" * 12)  # closing separator line"
      ],
      "metadata": {
        "colab": {
          "base_uri": "https://localhost:8080/"
        },
        "collapsed": true,
        "id": "wXKnshaFID-c",
        "outputId": "2a315d48-89e2-46e1-afa6-801341363177"
      },
      "execution_count": 14,
      "outputs": [
        {
          "output_type": "stream",
          "name": "stdout",
          "text": [
            "Ship Mode:\n",
            "------------\n",
            "| Second Class |\n",
            "| Standard Class |\n",
            "| First Class |\n",
            "| Same Day   |\n",
            "------------\n"
          ]
        }
      ]
    },
    {
      "cell_type": "markdown",
      "source": [
        "## Sets Section"
      ],
      "metadata": {
        "id": "apH_OUiKD54r"
      }
    },
    {
      "cell_type": "code",
      "source": [
        "# var sets penampung nilai\n",
        "ship_mode_set = set(dataset['Ship Mode'].unique())\n",
        "\n",
        "# menampilkaan sets sets\n",
        "print('Ship Mode :', ship_mode_set)"
      ],
      "metadata": {
        "colab": {
          "base_uri": "https://localhost:8080/"
        },
        "id": "xtNioswXE1qM",
        "outputId": "ee049cbc-1bc3-49bc-c31f-9cf95899c40a"
      },
      "execution_count": 15,
      "outputs": [
        {
          "output_type": "stream",
          "name": "stdout",
          "text": [
            "Ship Mode : {'Same Day', 'Second Class', 'First Class', 'Standard Class'}\n"
          ]
        }
      ]
    },
    {
      "cell_type": "markdown",
      "source": [
        "## Tuples Section"
      ],
      "metadata": {
        "id": "anagCCYBD5yv"
      }
    },
    {
      "cell_type": "code",
      "source": [
        "tuples1 = (1, 'CA-2016-152156', '2016-11-08', '2016-11-11', 'Second Class',\n",
        "            'CG-12520', 'Claire Gute', 'Consumer', 'United States', 'Henderson', 'Kentucky',\n",
        "            42420, 'South', 'FUR-BO-10001798', 'Furniture', 'Bookcases',\n",
        "            'Bush Somerset Collection Bookcase', 261.96, 2, 0, 41.9136)\n",
        "print('Data Claire Gute : ',tuples1)"
      ],
      "metadata": {
        "colab": {
          "base_uri": "https://localhost:8080/"
        },
        "id": "_c3i1A0dE24b",
        "outputId": "783008fe-e7b1-4a8e-9c74-637298ef49d2"
      },
      "execution_count": 45,
      "outputs": [
        {
          "output_type": "stream",
          "name": "stdout",
          "text": [
            "Data Claire Gute :  (1, 'CA-2016-152156', '2016-11-08', '2016-11-11', 'Second Class', 'CG-12520', 'Claire Gute', 'Consumer', 'United States', 'Henderson', 'Kentucky', 42420, 'South', 'FUR-BO-10001798', 'Furniture', 'Bookcases', 'Bush Somerset Collection Bookcase', 261.96, 2, 0, 41.9136)\n"
          ]
        }
      ]
    },
    {
      "cell_type": "markdown",
      "source": [
        "## Dictionary Section"
      ],
      "metadata": {
        "id": "7qrpLpOaD6UP"
      }
    },
    {
      "cell_type": "code",
      "source": [
        "dict1 = {\n",
        "    'Row ID': 1,\n",
        "    'Order ID': 'CA-2016-152156',\n",
        "    'Order Date': '2016-11-08',\n",
        "    'Ship Date': '2016-11-11',\n",
        "    'Ship Mode': 'Second Class',\n",
        "    'Customer ID': 'CG-12520',\n",
        "    'Customer Name': 'Claire Gute',\n",
        "    'Segment': 'Consumer',\n",
        "    'Country': 'United States',\n",
        "    'City': 'Henderson',\n",
        "    'State': 'Kentucky',\n",
        "    'Postal Code': 42420,\n",
        "    'Region': 'South',\n",
        "    'Product ID': 'FUR-BO-10001798',\n",
        "    'Category': 'Furniture',\n",
        "    'Sub-Category': 'Bookcases',\n",
        "    'Product Name': 'Bush Somerset Collection Bookcase',\n",
        "    'Sales': 261.96,\n",
        "    'Quantity': 2,\n",
        "    'Discount': 0,\n",
        "    'Profit': 41.9136\n",
        "}\n",
        "\n",
        "customer_name = dict1['Customer Name']\n",
        "print(f\"Data {customer_name} : {dict1}\")"
      ],
      "metadata": {
        "colab": {
          "base_uri": "https://localhost:8080/"
        },
        "id": "yDQwANqrE3Vm",
        "outputId": "9ccb1408-8d97-4ace-a588-82927138c7ef"
      },
      "execution_count": 49,
      "outputs": [
        {
          "output_type": "stream",
          "name": "stdout",
          "text": [
            "Data Claire Gute : {'Row ID': 1, 'Order ID': 'CA-2016-152156', 'Order Date': '2016-11-08', 'Ship Date': '2016-11-11', 'Ship Mode': 'Second Class', 'Customer ID': 'CG-12520', 'Customer Name': 'Claire Gute', 'Segment': 'Consumer', 'Country': 'United States', 'City': 'Henderson', 'State': 'Kentucky', 'Postal Code': 42420, 'Region': 'South', 'Product ID': 'FUR-BO-10001798', 'Category': 'Furniture', 'Sub-Category': 'Bookcases', 'Product Name': 'Bush Somerset Collection Bookcase', 'Sales': 261.96, 'Quantity': 2, 'Discount': 0, 'Profit': 41.9136}\n"
          ]
        }
      ]
    },
    {
      "cell_type": "markdown",
      "source": [
        "# Conditional Statement"
      ],
      "metadata": {
        "id": "HzWOoJrBEGUC"
      }
    },
    {
      "cell_type": "markdown",
      "source": [
        "## IF Statement"
      ],
      "metadata": {
        "id": "KSAlNtgTEKlm"
      }
    },
    {
      "cell_type": "code",
      "source": [
        "# Menampilkan apakah pada dictionary ada Kategori Furnitur\n",
        "if dict1['Category'] == 'Furniture':\n",
        "    print(f\"Order {dict1['Order ID']} contains Furniture.\")"
      ],
      "metadata": {
        "colab": {
          "base_uri": "https://localhost:8080/"
        },
        "id": "IAMVIXI2EMUd",
        "outputId": "494e4233-b7a7-489a-e0db-ba3428eeebda"
      },
      "execution_count": 52,
      "outputs": [
        {
          "output_type": "stream",
          "name": "stdout",
          "text": [
            "Order CA-2016-152156 contains Furniture.\n"
          ]
        }
      ]
    },
    {
      "cell_type": "markdown",
      "source": [
        "## IF Else Statement"
      ],
      "metadata": {
        "id": "FTOtCOkLEMoT"
      }
    },
    {
      "cell_type": "code",
      "source": [
        "# Melakukan cek kondisi apakah data (dict1) berkategori Furniture atau bukan\n",
        "if dict1['Category'] == 'Furniture':\n",
        "    print(f\"Pesanan {dict1['Order ID']} mengandung Furniture.\")\n",
        "else:\n",
        "    print(f\"Pesanan {dict1['Order ID']} tidak mengandung Furniture.\")\n",
        "\n",
        "# Melakukan cek kondisi apakah data (dict1) berkategori Technology atau bukan\n",
        "if dict1['Category'] == 'Technology':\n",
        "    print(f\"Pesanan {dict1['Order ID']} mengandung Technology.\")\n",
        "else:\n",
        "    print(f\"Pesanan {dict1['Order ID']} tidak mengandung Technology.\")"
      ],
      "metadata": {
        "colab": {
          "base_uri": "https://localhost:8080/"
        },
        "id": "z5VXVm1vEPOK",
        "outputId": "9a89af1e-6426-485a-987e-c8f404e26d69"
      },
      "execution_count": 57,
      "outputs": [
        {
          "output_type": "stream",
          "name": "stdout",
          "text": [
            "Pesanan CA-2016-152156 mengandung Furniture.\n",
            "Pesanan CA-2016-152156 tidak mengandung Technology.\n"
          ]
        }
      ]
    },
    {
      "cell_type": "markdown",
      "source": [
        "## IF Elif Else Statement"
      ],
      "metadata": {
        "id": "v87E0aihEPfJ"
      }
    },
    {
      "cell_type": "code",
      "source": [
        "# Melakukan decision-making apakah data (dict1) memiliki kondisi yang\n",
        "# sesuai dengan syarat category\n",
        "\n",
        "nama_pelanggan = dict1['Customer Name']\n",
        "kategori_produk = dict1['Category']\n",
        "id_pesanan = dict1['Order ID']\n",
        "\n",
        "if kategori_produk == 'Furniture':\n",
        "    print(f\"Pesanan {id_pesanan} oleh {nama_pelanggan} berisi furnitur.\")\n",
        "elif kategori_produk == 'Office Supplies':\n",
        "    print(f\"Pesanan {id_pesanan} oleh {nama_pelanggan} berisi perlengkapan kantor.\")\n",
        "elif kategori_produk == 'Technology':\n",
        "    print(f\"Pesanan {id_pesanan} oleh {nama_pelanggan} berisi produk teknologi.\")\n",
        "else:\n",
        "    print(f\"Pesanan {id_pesanan} oleh {nama_pelanggan} berisi kategori produk lain.\")"
      ],
      "metadata": {
        "colab": {
          "base_uri": "https://localhost:8080/"
        },
        "id": "MQxwc_hCETiJ",
        "outputId": "fd6a63b6-2780-468a-e473-c365cc4afb21"
      },
      "execution_count": 59,
      "outputs": [
        {
          "output_type": "stream",
          "name": "stdout",
          "text": [
            "Pesanan CA-2016-152156 oleh Claire Gute berisi furnitur.\n"
          ]
        }
      ]
    },
    {
      "cell_type": "markdown",
      "source": [
        "## Nested IF Statement"
      ],
      "metadata": {
        "id": "LzYQzkM1ET2Z"
      }
    },
    {
      "cell_type": "code",
      "source": [
        "# Melakukan decision-making apakah data (dict1) memiliki kondisi yang\n",
        "# sesuai dengan kondisi dengan syarat Kategori dan Sub-Kategory nya\n",
        "\n",
        "nama_pelanggan = dict1['Customer Name']\n",
        "kategori_produk = dict1['Category']\n",
        "sub_kategori_produk = dict1['Sub-Category']\n",
        "id_pesanan = dict1['Order ID']\n",
        "region = dict1['Region']\n",
        "\n",
        "\n",
        "if kategori_produk == 'Furniture':\n",
        "    if sub_kategori_produk == 'Chairs':\n",
        "        print(f\"Pesanan {id_pesanan} oleh {nama_pelanggan} dari region {region} berisi kursi.\")\n",
        "    else:\n",
        "        print(f\"Pesanan {id_pesanan} oleh {nama_pelanggan} dari region {region} berisi furnitur selain kursi.\")\n",
        "else:\n",
        "    if kategori_produk == 'Technology':\n",
        "        print(f\"Pesanan {id_pesanan} oleh {nama_pelanggan} dari region {region} berisi produk teknologi.\")\n",
        "    else:\n",
        "        print(f\"Pesanan {id_pesanan} oleh {nama_pelanggan} dari region {region} berisi produk selain furnitur dan teknologi.\")"
      ],
      "metadata": {
        "colab": {
          "base_uri": "https://localhost:8080/"
        },
        "id": "Jd4A3ZF2EWfP",
        "outputId": "c635756a-c6a8-4504-869f-9e5e46e5ddf7"
      },
      "execution_count": 62,
      "outputs": [
        {
          "output_type": "stream",
          "name": "stdout",
          "text": [
            "Pesanan CA-2016-152156 oleh Claire Gute dari region South berisi furnitur selain kursi.\n"
          ]
        }
      ]
    },
    {
      "cell_type": "markdown",
      "source": [
        "## While Loop"
      ],
      "metadata": {
        "id": "zWmblSJWEWoC"
      }
    },
    {
      "cell_type": "code",
      "source": [
        "data_loop = {'ID': [1, 2, 3], 'Nama': ['Andi', 'Budi', 'Cici'], 'Usia': [25, 30, 28]}\n",
        "dataset = pd.DataFrame(data_loop)\n",
        "data = pd.DataFrame(data_loop)\n",
        "\n",
        "i = 0\n",
        "while i < len(data):\n",
        "    nama_pelanggan = data.loc[i, 'Nama']  # Ganti 'Customer Name' dengan 'Nama'\n",
        "    usia_pelanggan = data.loc[i, 'Usia']   # Ganti 'Sales' dengan 'Usia' atau kolom lain yang sesuai\n",
        "\n",
        "    print(f\"Pelanggan {nama_pelanggan} berusia {usia_pelanggan} tahun.\")\n",
        "\n",
        "    i += 1"
      ],
      "metadata": {
        "colab": {
          "base_uri": "https://localhost:8080/"
        },
        "id": "i0eluVR2EYF_",
        "outputId": "54093309-61c5-47ae-f251-9cc361854adc"
      },
      "execution_count": 69,
      "outputs": [
        {
          "output_type": "stream",
          "name": "stdout",
          "text": [
            "Pelanggan Andi berusia 25 tahun.\n",
            "Pelanggan Budi berusia 30 tahun.\n",
            "Pelanggan Cici berusia 28 tahun.\n"
          ]
        }
      ]
    },
    {
      "cell_type": "markdown",
      "source": [
        "## For Loop"
      ],
      "metadata": {
        "id": "3G0kpWaAEYN7"
      }
    },
    {
      "cell_type": "code",
      "source": [
        "data_loop = {\n",
        "    'ID': [1, 2, 3],\n",
        "    'Customer Name': ['Andi', 'Budi', 'Cici'],\n",
        "    'Sales': [100, 250, 180]\n",
        "}\n",
        "dataset = pd.DataFrame(data_loop)\n",
        "data = pd.DataFrame(data_loop)\n",
        "\n",
        "for index, row in data.iterrows():\n",
        "    nama_pelanggan = row['Customer Name']\n",
        "    total_penjualan = row['Sales']\n",
        "\n",
        "    print(f\"Pelanggan {nama_pelanggan} melakukan pembelian dengan total Rp{total_penjualan:,.2f}\")"
      ],
      "metadata": {
        "colab": {
          "base_uri": "https://localhost:8080/"
        },
        "id": "olY1xJU5EZYF",
        "outputId": "b442ad23-efd0-4565-bcd8-6f5de69ef445"
      },
      "execution_count": 71,
      "outputs": [
        {
          "output_type": "stream",
          "name": "stdout",
          "text": [
            "Pelanggan Andi melakukan pembelian dengan total Rp100.00\n",
            "Pelanggan Budi melakukan pembelian dengan total Rp250.00\n",
            "Pelanggan Cici melakukan pembelian dengan total Rp180.00\n"
          ]
        }
      ]
    },
    {
      "cell_type": "markdown",
      "source": [
        "## Function Section"
      ],
      "metadata": {
        "id": "Jn_vRbwzEZeo"
      }
    },
    {
      "cell_type": "code",
      "source": [
        "data_loop = {\n",
        "    'ID': [1, 2, 3],\n",
        "    'Customer Name': ['Andi', 'Budi', 'Cici'],\n",
        "    'Sales': [100, 250, 180],\n",
        "    'Category': ['Furniture', 'Technology', 'Office Supplies']\n",
        "}\n",
        "dataset = pd.DataFrame(data_loop)\n",
        "data = pd.DataFrame(data_loop)\n",
        "\n",
        "\n",
        "def tampilkan_info_penjualan(row):\n",
        "    \"\"\"\n",
        "    Menampilkan informasi penjualan untuk satu baris data.\n",
        "\n",
        "    Args:\n",
        "        row: Baris data (Series Pandas) dari DataFrame.\n",
        "    \"\"\"\n",
        "    nama_pelanggan = row['Customer Name']\n",
        "    total_penjualan = row['Sales']\n",
        "    kategori = row['Category']\n",
        "\n",
        "    print(f\"Pelanggan {nama_pelanggan} membeli produk kategori {kategori} dengan total Rp{total_penjualan:,.2f}\")\n",
        "\n",
        "# Menggunakan fungsi untuk setiap baris data\n",
        "for index, row in data.iterrows():\n",
        "    tampilkan_info_penjualan(row)"
      ],
      "metadata": {
        "colab": {
          "base_uri": "https://localhost:8080/"
        },
        "id": "GUcJP6nOUV83",
        "outputId": "3f2ac255-4cfb-4ce4-cf7c-75ef08bc0fae"
      },
      "execution_count": 73,
      "outputs": [
        {
          "output_type": "stream",
          "name": "stdout",
          "text": [
            "Pelanggan Andi membeli produk kategori Furniture dengan total Rp100.00\n",
            "Pelanggan Budi membeli produk kategori Technology dengan total Rp250.00\n",
            "Pelanggan Cici membeli produk kategori Office Supplies dengan total Rp180.00\n"
          ]
        }
      ]
    },
    {
      "cell_type": "markdown",
      "source": [
        "# Data Analysis"
      ],
      "metadata": {
        "id": "F271_3snPkd9"
      }
    },
    {
      "cell_type": "markdown",
      "source": [
        "## Performa Penjualan"
      ],
      "metadata": {
        "id": "alWr_eDOPo0o"
      }
    },
    {
      "cell_type": "code",
      "source": [
        "# Penjualan Keseluruhan\n",
        "\n",
        "# Menghitung total penjualan\n",
        "total_sales = dataset['Sales'].sum()\n",
        "\n",
        "# Memformat total sales ke Rupiah\n",
        "formatted_total_sales = f\"Rp{total_sales:,.0f}\"\n",
        "\n",
        "# Hasil total sales dalam Rupiah\n",
        "print(f\"Total Sales: {formatted_total_sales}\")"
      ],
      "metadata": {
        "colab": {
          "base_uri": "https://localhost:8080/"
        },
        "id": "PamXv_ruiPHR",
        "outputId": "8e3dd618-d30e-4a6d-903d-dd92a94e7302"
      },
      "execution_count": 16,
      "outputs": [
        {
          "output_type": "stream",
          "name": "stdout",
          "text": [
            "Total Sales: Rp2,297,201\n"
          ]
        }
      ]
    },
    {
      "cell_type": "code",
      "source": [
        "# Penjualan berdasarkan Kategori/Sub-Kategori\n",
        "category_sales = dataset.groupby('Category')['Sales'].sum()\n",
        "print(category_sales)\n",
        "print()\n",
        "\n",
        "category_sales = dataset.groupby('Category')['Sales'].sum()\n",
        "\n",
        "# Format dalam Indonesian Rupiah\n",
        "formatted_sales = category_sales.apply(lambda x: f\"Rp{x:,.0f}\")\n",
        "\n",
        "print(formatted_sales)"
      ],
      "metadata": {
        "colab": {
          "base_uri": "https://localhost:8080/"
        },
        "id": "0xNChWgwRfjD",
        "outputId": "29d13cbf-b592-4e11-dac0-10a3d4170d65"
      },
      "execution_count": 17,
      "outputs": [
        {
          "output_type": "stream",
          "name": "stdout",
          "text": [
            "Category\n",
            "Furniture          741999.7953\n",
            "Office Supplies    719047.0320\n",
            "Technology         836154.0330\n",
            "Name: Sales, dtype: float64\n",
            "\n",
            "Category\n",
            "Furniture          Rp742,000\n",
            "Office Supplies    Rp719,047\n",
            "Technology         Rp836,154\n",
            "Name: Sales, dtype: object\n"
          ]
        }
      ]
    },
    {
      "cell_type": "code",
      "source": [
        "# Penjualan berdasarkan Wilayah/Negara Bagian/Kota\n",
        "region_sales = dataset.groupby('Region')['Sales'].sum()\n",
        "print(region_sales)\n",
        "print()\n",
        "\n",
        "# Format dalam Rupiah\n",
        "region_sales = dataset.groupby('Region')['Sales'].sum()\n",
        "formatted_sales = region_sales.apply(lambda x: f\"Rp{x:,.0f}\")\n",
        "print(formatted_sales)"
      ],
      "metadata": {
        "colab": {
          "base_uri": "https://localhost:8080/"
        },
        "id": "OHagwhG5Rkr6",
        "outputId": "1f6ca1e6-267f-45c1-81f0-46115deec579"
      },
      "execution_count": 18,
      "outputs": [
        {
          "output_type": "stream",
          "name": "stdout",
          "text": [
            "Region\n",
            "Central    501239.8908\n",
            "East       678781.2400\n",
            "South      391721.9050\n",
            "West       725457.8245\n",
            "Name: Sales, dtype: float64\n",
            "\n",
            "Region\n",
            "Central    Rp501,240\n",
            "East       Rp678,781\n",
            "South      Rp391,722\n",
            "West       Rp725,458\n",
            "Name: Sales, dtype: object\n"
          ]
        }
      ]
    },
    {
      "cell_type": "code",
      "source": [
        "# Tren Penjualan dari Waktu ke Waktu\n",
        "dataset['Order Date'] = pd.to_datetime(dataset['Order Date']) # convert 'order date' ke datetime object'\n",
        "monthly_sales = dataset.groupby(dataset['Order Date'].dt.to_period('M'))['Sales'].sum()\n",
        "print(monthly_sales)"
      ],
      "metadata": {
        "colab": {
          "base_uri": "https://localhost:8080/"
        },
        "id": "PlUPQO49SnCk",
        "outputId": "2792f689-6521-46da-d26c-b810b7077aeb"
      },
      "execution_count": 19,
      "outputs": [
        {
          "output_type": "stream",
          "name": "stdout",
          "text": [
            "Order Date\n",
            "2014-01     14236.8950\n",
            "2014-02      4519.8920\n",
            "2014-03     55691.0090\n",
            "2014-04     28295.3450\n",
            "2014-05     23648.2870\n",
            "2014-06     34595.1276\n",
            "2014-07     33946.3930\n",
            "2014-08     27909.4685\n",
            "2014-09     81777.3508\n",
            "2014-10     31453.3930\n",
            "2014-11     78628.7167\n",
            "2014-12     69545.6205\n",
            "2015-01     18174.0756\n",
            "2015-02     11951.4110\n",
            "2015-03     38726.2520\n",
            "2015-04     34195.2085\n",
            "2015-05     30131.6865\n",
            "2015-06     24797.2920\n",
            "2015-07     28765.3250\n",
            "2015-08     36898.3322\n",
            "2015-09     64595.9180\n",
            "2015-10     31404.9235\n",
            "2015-11     75972.5635\n",
            "2015-12     74919.5212\n",
            "2016-01     18542.4910\n",
            "2016-02     22978.8150\n",
            "2016-03     51715.8750\n",
            "2016-04     38750.0390\n",
            "2016-05     56987.7280\n",
            "2016-06     40344.5340\n",
            "2016-07     39261.9630\n",
            "2016-08     31115.3743\n",
            "2016-09     73410.0249\n",
            "2016-10     59687.7450\n",
            "2016-11     79411.9658\n",
            "2016-12     96999.0430\n",
            "2017-01     43971.3740\n",
            "2017-02     20301.1334\n",
            "2017-03     58872.3528\n",
            "2017-04     36521.5361\n",
            "2017-05     44261.1102\n",
            "2017-06     52981.7257\n",
            "2017-07     45264.4160\n",
            "2017-08     63120.8880\n",
            "2017-09     87866.6520\n",
            "2017-10     77776.9232\n",
            "2017-11    118447.8250\n",
            "2017-12     83829.3188\n",
            "Freq: M, Name: Sales, dtype: float64\n"
          ]
        }
      ]
    },
    {
      "cell_type": "code",
      "source": [
        "# Tren Penjuaan dengan format Rupiah\n",
        "\n",
        "# Konversi 'Order Date' ke datetime objects\n",
        "dataset['Order Date'] = pd.to_datetime(dataset['Order Date'])\n",
        "\n",
        "# Menghitung monthly sales\n",
        "monthly_sales = dataset.groupby(dataset['Order Date'].dt.to_period('M'))['Sales'].sum()\n",
        "\n",
        "# Format index (Order Date) ke \"Month Year\"\n",
        "monthly_sales.index = monthly_sales.index.to_timestamp().strftime('%B %Y')\n",
        "\n",
        "# Format nilai sales ke Rupiah\n",
        "monthly_sales_formatted = monthly_sales.apply(lambda x: f\"Rp{x:,.0f}\")\n",
        "\n",
        "print(monthly_sales_formatted)"
      ],
      "metadata": {
        "colab": {
          "base_uri": "https://localhost:8080/"
        },
        "id": "Syc1KmorUazp",
        "outputId": "c17e0d2d-bfe4-4d90-89bc-9137c7410cec"
      },
      "execution_count": 20,
      "outputs": [
        {
          "output_type": "stream",
          "name": "stdout",
          "text": [
            "Order Date\n",
            "January 2014       Rp14,237\n",
            "February 2014       Rp4,520\n",
            "March 2014         Rp55,691\n",
            "April 2014         Rp28,295\n",
            "May 2014           Rp23,648\n",
            "June 2014          Rp34,595\n",
            "July 2014          Rp33,946\n",
            "August 2014        Rp27,909\n",
            "September 2014     Rp81,777\n",
            "October 2014       Rp31,453\n",
            "November 2014      Rp78,629\n",
            "December 2014      Rp69,546\n",
            "January 2015       Rp18,174\n",
            "February 2015      Rp11,951\n",
            "March 2015         Rp38,726\n",
            "April 2015         Rp34,195\n",
            "May 2015           Rp30,132\n",
            "June 2015          Rp24,797\n",
            "July 2015          Rp28,765\n",
            "August 2015        Rp36,898\n",
            "September 2015     Rp64,596\n",
            "October 2015       Rp31,405\n",
            "November 2015      Rp75,973\n",
            "December 2015      Rp74,920\n",
            "January 2016       Rp18,542\n",
            "February 2016      Rp22,979\n",
            "March 2016         Rp51,716\n",
            "April 2016         Rp38,750\n",
            "May 2016           Rp56,988\n",
            "June 2016          Rp40,345\n",
            "July 2016          Rp39,262\n",
            "August 2016        Rp31,115\n",
            "September 2016     Rp73,410\n",
            "October 2016       Rp59,688\n",
            "November 2016      Rp79,412\n",
            "December 2016      Rp96,999\n",
            "January 2017       Rp43,971\n",
            "February 2017      Rp20,301\n",
            "March 2017         Rp58,872\n",
            "April 2017         Rp36,522\n",
            "May 2017           Rp44,261\n",
            "June 2017          Rp52,982\n",
            "July 2017          Rp45,264\n",
            "August 2017        Rp63,121\n",
            "September 2017     Rp87,867\n",
            "October 2017       Rp77,777\n",
            "November 2017     Rp118,448\n",
            "December 2017      Rp83,829\n",
            "Name: Sales, dtype: object\n"
          ]
        }
      ]
    },
    {
      "cell_type": "code",
      "source": [
        "# Tren Penjualan dari pesanan terbesar per bulan\n",
        "\n",
        "#sorted_monthly_sales = monthly_sales.sort_values(ascending=False)\n",
        "#print(sorted_monthly_sales)\n",
        "\n",
        "# Mengekstrak nilai penjualan untuk pengurutan\n",
        "sales_values = monthly_sales_formatted.str[2:].str.replace(',', '').astype(float)\n",
        "\n",
        "# Urutkan berdasarkan nilai penjualan\n",
        "sorted_monthly_sales = monthly_sales_formatted.iloc[sales_values.argsort()[::-1]]\n",
        "\n",
        "print(sorted_monthly_sales)"
      ],
      "metadata": {
        "colab": {
          "base_uri": "https://localhost:8080/"
        },
        "collapsed": true,
        "id": "9wQicZG4VdYQ",
        "outputId": "feec6495-218a-41c9-f66f-a1ed8e46ad15"
      },
      "execution_count": 21,
      "outputs": [
        {
          "output_type": "stream",
          "name": "stdout",
          "text": [
            "Order Date\n",
            "November 2017     Rp118,448\n",
            "December 2016      Rp96,999\n",
            "September 2017     Rp87,867\n",
            "December 2017      Rp83,829\n",
            "September 2014     Rp81,777\n",
            "November 2016      Rp79,412\n",
            "November 2014      Rp78,629\n",
            "October 2017       Rp77,777\n",
            "November 2015      Rp75,973\n",
            "December 2015      Rp74,920\n",
            "September 2016     Rp73,410\n",
            "December 2014      Rp69,546\n",
            "September 2015     Rp64,596\n",
            "August 2017        Rp63,121\n",
            "October 2016       Rp59,688\n",
            "March 2017         Rp58,872\n",
            "May 2016           Rp56,988\n",
            "March 2014         Rp55,691\n",
            "June 2017          Rp52,982\n",
            "March 2016         Rp51,716\n",
            "July 2017          Rp45,264\n",
            "May 2017           Rp44,261\n",
            "January 2017       Rp43,971\n",
            "June 2016          Rp40,345\n",
            "July 2016          Rp39,262\n",
            "April 2016         Rp38,750\n",
            "March 2015         Rp38,726\n",
            "August 2015        Rp36,898\n",
            "April 2017         Rp36,522\n",
            "June 2014          Rp34,595\n",
            "April 2015         Rp34,195\n",
            "July 2014          Rp33,946\n",
            "October 2014       Rp31,453\n",
            "October 2015       Rp31,405\n",
            "August 2016        Rp31,115\n",
            "May 2015           Rp30,132\n",
            "July 2015          Rp28,765\n",
            "April 2014         Rp28,295\n",
            "August 2014        Rp27,909\n",
            "June 2015          Rp24,797\n",
            "May 2014           Rp23,648\n",
            "February 2016      Rp22,979\n",
            "February 2017      Rp20,301\n",
            "January 2016       Rp18,542\n",
            "January 2015       Rp18,174\n",
            "January 2014       Rp14,237\n",
            "February 2015      Rp11,951\n",
            "February 2014       Rp4,520\n",
            "Name: Sales, dtype: object\n"
          ]
        }
      ]
    },
    {
      "cell_type": "code",
      "source": [
        "# Produk Terlaris\n",
        "\n",
        "# Penjualan Keseluruhan\n",
        "total_sales = dataset['Sales'].sum()\n",
        "\n",
        "# Format total_sales to Rupiah\n",
        "formatted_total_sales = f\"Rp{total_sales:,.0f}\"\n",
        "\n",
        "print(f\"Total Sales: {formatted_total_sales}\")"
      ],
      "metadata": {
        "colab": {
          "base_uri": "https://localhost:8080/"
        },
        "id": "J2C9ZSnFVsHC",
        "outputId": "d8cc26d6-c767-46aa-dfde-95dbce467cbb"
      },
      "execution_count": 22,
      "outputs": [
        {
          "output_type": "stream",
          "name": "stdout",
          "text": [
            "Total Sales: Rp2,297,201\n"
          ]
        }
      ]
    },
    {
      "cell_type": "code",
      "source": [
        "# Produk Terlaris dari Kuantitas Terjual\n",
        "\n",
        "# Group by product name and sum quantities\n",
        "product_sales_quantity = dataset.groupby('Product Name')['Quantity'].sum()\n",
        "\n",
        "# Urutkan menurun pesanan untuk menemukan top sellers\n",
        "top_sellers_quantity = product_sales_quantity.sort_values(ascending=False)\n",
        "\n",
        "# Menampilkan produk terlaris dengan jumlah tertentu\n",
        "N = 10  # Dapat diubah untuk menentukan angka dari top sellers\n",
        "print(f\"Top {N} Best-Selling Products by Quantity Sold:\")\n",
        "print(top_sellers_quantity.head(N))"
      ],
      "metadata": {
        "colab": {
          "base_uri": "https://localhost:8080/"
        },
        "id": "X836JEZpdqQB",
        "outputId": "ea94247a-1aed-421e-98e3-e815edea07e3"
      },
      "execution_count": 23,
      "outputs": [
        {
          "output_type": "stream",
          "name": "stdout",
          "text": [
            "Top 10 Best-Selling Products by Quantity Sold:\n",
            "Product Name\n",
            "Staples                                                       215\n",
            "Staple envelope                                               170\n",
            "Easy-staple paper                                             150\n",
            "Staples in misc. colors                                        86\n",
            "KI Adjustable-Height Table                                     74\n",
            "Avery Non-Stick Binders                                        71\n",
            "Storex Dura Pro Binders                                        71\n",
            "GBC Premium Transparent Covers with Diagonal Lined Pattern     67\n",
            "Situations Contoured Folding Chairs, 4/Set                     64\n",
            "Staple-based wall hangings                                     62\n",
            "Name: Quantity, dtype: int64\n"
          ]
        }
      ]
    },
    {
      "cell_type": "code",
      "source": [
        "# Produk terlaris berdasarkan Pendapatan (Total Penjualan)\n",
        "\n",
        "# Kelompokkan berdasarkan nama produk dan jumlah penjualan\n",
        "product_sales_revenue = dataset.groupby('Product Name')['Sales'].sum()\n",
        "\n",
        "# Urutkan dalam urutan menurun untuk menemukan penjual teratas\n",
        "top_sellers_revenue = product_sales_revenue.sort_values(ascending=False)\n",
        "\n",
        "# Menampilkan produk terlaris N teratas berdasarkan pendapatan\n",
        "N = 10  # Dapat diubah untuk menentukan angka dari top sellers\n",
        "print(f\"Top {N} Best-Selling Products by Revenue:\")\n",
        "print(top_sellers_revenue.head(N))"
      ],
      "metadata": {
        "colab": {
          "base_uri": "https://localhost:8080/"
        },
        "id": "yJYFO0pTdrOe",
        "outputId": "d405db2b-ed42-4e04-a930-80ce50550e1c"
      },
      "execution_count": 24,
      "outputs": [
        {
          "output_type": "stream",
          "name": "stdout",
          "text": [
            "Top 10 Best-Selling Products by Revenue:\n",
            "Product Name\n",
            "Canon imageCLASS 2200 Advanced Copier                                          61599.824\n",
            "Fellowes PB500 Electric Punch Plastic Comb Binding Machine with Manual Bind    27453.384\n",
            "Cisco TelePresence System EX90 Videoconferencing Unit                          22638.480\n",
            "HON 5400 Series Task Chairs for Big and Tall                                   21870.576\n",
            "GBC DocuBind TL300 Electric Binding System                                     19823.479\n",
            "GBC Ibimaster 500 Manual ProClick Binding System                               19024.500\n",
            "Hewlett Packard LaserJet 3310 Copier                                           18839.686\n",
            "HP Designjet T520 Inkjet Large Format Printer - 24\" Color                      18374.895\n",
            "GBC DocuBind P400 Electric Binding System                                      17965.068\n",
            "High Speed Automatic Electric Letter Opener                                    17030.312\n",
            "Name: Sales, dtype: float64\n"
          ]
        }
      ]
    },
    {
      "cell_type": "code",
      "source": [
        "# Kelompokkan berdasarkan nama produk dan jumlah penjualan\n",
        "product_sales_revenue = dataset.groupby('Product Name')['Sales'].sum()\n",
        "\n",
        "# Urutkan dalam urutan menurun untuk menemukan penjual teratas\n",
        "top_sellers_revenue = product_sales_revenue.sort_values(ascending=False)\n",
        "\n",
        "# Format nilai sales ke Rupiah\n",
        "top_sellers_revenue_rp = top_sellers_revenue.apply(lambda x: f\"Rp{x:,.0f}\")\n",
        "\n",
        "# Menampilkan N produk terlaris berdasarkan pendapatan dalam Rupiah\n",
        "N = 10  # Dapat diubah untuk menentukan angka dari top sellers\n",
        "print(f\"Top {N} Best-Selling Products by Revenue (in Rupiah):\")\n",
        "print(top_sellers_revenue_rp.head(N))"
      ],
      "metadata": {
        "colab": {
          "base_uri": "https://localhost:8080/"
        },
        "id": "5VfNtGvxdxGQ",
        "outputId": "ea23c946-c9cd-47f4-a015-802e1c790edc"
      },
      "execution_count": 25,
      "outputs": [
        {
          "output_type": "stream",
          "name": "stdout",
          "text": [
            "Top 10 Best-Selling Products by Revenue (in Rupiah):\n",
            "Product Name\n",
            "Canon imageCLASS 2200 Advanced Copier                                          Rp61,600\n",
            "Fellowes PB500 Electric Punch Plastic Comb Binding Machine with Manual Bind    Rp27,453\n",
            "Cisco TelePresence System EX90 Videoconferencing Unit                          Rp22,638\n",
            "HON 5400 Series Task Chairs for Big and Tall                                   Rp21,871\n",
            "GBC DocuBind TL300 Electric Binding System                                     Rp19,823\n",
            "GBC Ibimaster 500 Manual ProClick Binding System                               Rp19,024\n",
            "Hewlett Packard LaserJet 3310 Copier                                           Rp18,840\n",
            "HP Designjet T520 Inkjet Large Format Printer - 24\" Color                      Rp18,375\n",
            "GBC DocuBind P400 Electric Binding System                                      Rp17,965\n",
            "High Speed Automatic Electric Letter Opener                                    Rp17,030\n",
            "Name: Sales, dtype: object\n"
          ]
        }
      ]
    },
    {
      "cell_type": "code",
      "source": [
        "# Penjualan berdasarkan Segmen Pelanggan\n",
        "\n",
        "# Kelompokkan berdasarkan segmen pelanggan dan jumlahkan penjualan\n",
        "segment_sales = dataset.groupby('Segment')['Sales'].sum()\n",
        "\n",
        "# Memformat nilai penjualan ke Rupiah\n",
        "segment_sales_rp = segment_sales.apply(lambda x: f\"Rp{x:,.0f}\")\n",
        "\n",
        "# Menampilkan penjualan berdasarkan segmen pelanggan dalam Rupiah\n",
        "print(\"Sales by Customer Segment (in Rupiah):\")\n",
        "print(segment_sales_rp)"
      ],
      "metadata": {
        "colab": {
          "base_uri": "https://localhost:8080/"
        },
        "id": "pBTDH-KkhryH",
        "outputId": "6d5f308f-bf83-4281-b14c-80be247aec32"
      },
      "execution_count": 26,
      "outputs": [
        {
          "output_type": "stream",
          "name": "stdout",
          "text": [
            "Sales by Customer Segment (in Rupiah):\n",
            "Segment\n",
            "Consumer       Rp1,161,401\n",
            "Corporate        Rp706,146\n",
            "Home Office      Rp429,653\n",
            "Name: Sales, dtype: object\n"
          ]
        }
      ]
    },
    {
      "cell_type": "markdown",
      "source": [
        "## Analisis Pelanggan"
      ],
      "metadata": {
        "id": "oXSaP7tBi2iF"
      }
    },
    {
      "cell_type": "code",
      "source": [
        "# Segmentasi Pelanggan\n",
        "print(\"Segmentasi Pelanggan:\")\n",
        "print(dataset['Segment'].value_counts())"
      ],
      "metadata": {
        "colab": {
          "base_uri": "https://localhost:8080/"
        },
        "id": "XNESsknPi6ra",
        "outputId": "d6eb1fdc-578d-4ac0-b3be-4be59abc9111"
      },
      "execution_count": 27,
      "outputs": [
        {
          "output_type": "stream",
          "name": "stdout",
          "text": [
            "Segmentasi Pelanggan:\n",
            "Segment\n",
            "Consumer       5191\n",
            "Corporate      3020\n",
            "Home Office    1783\n",
            "Name: count, dtype: int64\n"
          ]
        }
      ]
    },
    {
      "cell_type": "code",
      "source": [
        "# Lokasi Pelanggan (State)\n",
        "print(\"Pelanggan berdasarkan Lokasi Pelanggan (State):\")\n",
        "print(dataset['State'].value_counts())"
      ],
      "metadata": {
        "colab": {
          "base_uri": "https://localhost:8080/"
        },
        "id": "wdqAJnmZt3SF",
        "outputId": "5f34d213-51a6-4b7b-a5d9-b64c87300561"
      },
      "execution_count": 28,
      "outputs": [
        {
          "output_type": "stream",
          "name": "stdout",
          "text": [
            "Pelanggan berdasarkan Lokasi Pelanggan (State):\n",
            "State\n",
            "California              2001\n",
            "New York                1128\n",
            "Texas                    985\n",
            "Pennsylvania             587\n",
            "Washington               506\n",
            "Illinois                 492\n",
            "Ohio                     469\n",
            "Florida                  383\n",
            "Michigan                 255\n",
            "North Carolina           249\n",
            "Arizona                  224\n",
            "Virginia                 224\n",
            "Georgia                  184\n",
            "Tennessee                183\n",
            "Colorado                 182\n",
            "Indiana                  149\n",
            "Kentucky                 139\n",
            "Massachusetts            135\n",
            "New Jersey               130\n",
            "Oregon                   124\n",
            "Wisconsin                110\n",
            "Maryland                 105\n",
            "Delaware                  96\n",
            "Minnesota                 89\n",
            "Connecticut               82\n",
            "Oklahoma                  66\n",
            "Missouri                  66\n",
            "Alabama                   61\n",
            "Arkansas                  60\n",
            "Rhode Island              56\n",
            "Utah                      53\n",
            "Mississippi               53\n",
            "Louisiana                 42\n",
            "South Carolina            42\n",
            "Nevada                    39\n",
            "Nebraska                  38\n",
            "New Mexico                37\n",
            "Iowa                      30\n",
            "New Hampshire             27\n",
            "Kansas                    24\n",
            "Idaho                     21\n",
            "Montana                   15\n",
            "South Dakota              12\n",
            "Vermont                   11\n",
            "District of Columbia      10\n",
            "Maine                      8\n",
            "North Dakota               7\n",
            "West Virginia              4\n",
            "Wyoming                    1\n",
            "Name: count, dtype: int64\n"
          ]
        }
      ]
    },
    {
      "cell_type": "code",
      "source": [
        "# Usia Pelanggan (Dengan asumsi memiliki kolom 'Usia Pelanggan')\n",
        "\n",
        "# Jika tidak memiliki kolom usia, mungkin perlu menghitungnya dari data lain seperti tanggal lahir jika tersedia\n",
        "if 'Usia Pelanggan' in dataset.columns:\n",
        "    print(\"Usia Pelanggan:\")\n",
        "    print(dataset['Usia Pelanggan'].describe())\n",
        "else:\n",
        "    print(\"Informasi Usia Pelanggan tidak ditemukan dalam dataset.\")"
      ],
      "metadata": {
        "colab": {
          "base_uri": "https://localhost:8080/"
        },
        "id": "dt8sa7tTrs-J",
        "outputId": "58506ba0-db7a-4a28-b515-9872f33febb3"
      },
      "execution_count": 29,
      "outputs": [
        {
          "output_type": "stream",
          "name": "stdout",
          "text": [
            "Informasi Usia Pelanggan tidak ditemukan dalam dataset.\n"
          ]
        }
      ]
    },
    {
      "cell_type": "code",
      "source": [
        "# Hitung Nilai Pembelian Rata-rata\n",
        "average_purchase_value = dataset['Sales'].sum() / dataset['Order ID'].nunique()\n",
        "\n",
        "# Hitung Frekuensi Pembelian (dengan asumsi 'Tanggal Pesanan' dalam format datetime)\n",
        "purchase_frequency = dataset.groupby('Customer ID')['Order Date'].nunique().mean()\n",
        "\n",
        "# Perkirakan Umur Pelanggan (dalam bulan, Anda mungkin perlu menyesuaikannya)\n",
        "# Ini adalah contoh sederhana; Anda mungkin memerlukan metode yang lebih canggih\n",
        "customer_lifespan = 12 # Asumsikan rata-rata umur pelanggan 12 bulan\n",
        "\n",
        "# Hitung CLTV\n",
        "cltv = average_purchase_value * purchase_frequency * customer_lifespan\n",
        "\n",
        "# Memformat CLTV ke Rupiah\n",
        "formatted_cltv = f\"Rp{cltv:,.0f}\"\n",
        "\n",
        "print(f\"Perkiraan Nilai Pelanggan Seumur Hidup: {formatted_cltv}\")"
      ],
      "metadata": {
        "colab": {
          "base_uri": "https://localhost:8080/"
        },
        "id": "m3FoDLjJvnsc",
        "outputId": "c4fd94e5-eefc-4178-c43f-baeae099d782"
      },
      "execution_count": 30,
      "outputs": [
        {
          "output_type": "stream",
          "name": "stdout",
          "text": [
            "Perkiraan Nilai Pelanggan Seumur Hidup: Rp34,644\n"
          ]
        }
      ]
    },
    {
      "cell_type": "code",
      "source": [
        "# Perputaran Pelanggan\n",
        "# Churn adalah kehilangan pelanggan dari suatu bisnis/pelanggan yang berubah-ubah\n",
        "\n",
        "import datetime\n",
        "\n",
        "# Menentukan periode churn (misalnya, 6 bulan)\n",
        "churn_period = datetime.timedelta(days=180)\n",
        "churn_period_months = churn_period.days // 30  # Perkiraan bulan\n",
        "\n",
        "# Dapatkan tanggal pembelian terbaru untuk setiap pelanggan\n",
        "recency = dataset.groupby('Customer ID')['Order Date'].max()\n",
        "\n",
        "# Hitung waktu sejak pembelian terakhir\n",
        "time_since_last_purchase = datetime.datetime.now() - recency\n",
        "\n",
        "# Identifikasi pelanggan yang berubah-ubah\n",
        "churned_customers = time_since_last_purchase[time_since_last_purchase > churn_period].index\n",
        "\n",
        "print(f\"Jumlah pelanggan yang berubah: {len(churned_customers)}\")\n",
        "print(f\"*Note: Dalam periode {churn_period_months} bulan\")"
      ],
      "metadata": {
        "colab": {
          "base_uri": "https://localhost:8080/"
        },
        "id": "faG2ha2pDUUk",
        "outputId": "ac06cdc0-5581-4baa-fd38-7e39f9a325b9"
      },
      "execution_count": 31,
      "outputs": [
        {
          "output_type": "stream",
          "name": "stdout",
          "text": [
            "Jumlah pelanggan yang berubah: 793\n",
            "*Note: Dalam periode 6 bulan\n"
          ]
        }
      ]
    },
    {
      "cell_type": "code",
      "source": [
        "import datetime\n",
        "import pandas as pd\n",
        "\n",
        "# Assuming 'dataset' is your DataFrame loaded from 'superstore.csv'\n",
        "\n",
        "# Calculate Recency\n",
        "recency = (datetime.datetime.now() - dataset.groupby('Customer ID')['Order Date'].max()).dt.days\n",
        "\n",
        "# Calculate Frequency\n",
        "frequency = dataset.groupby('Customer ID')['Order ID'].nunique()\n",
        "\n",
        "# Calculate Monetary\n",
        "monetary = dataset.groupby('Customer ID')['Sales'].sum()\n",
        "\n",
        "# Get Customer Name\n",
        "customer_name = dataset.groupby('Customer ID')['Customer Name'].first()\n",
        "\n",
        "# Create RFM DataFrame with Customer Name and ID\n",
        "rfm_df = pd.concat([recency, frequency, monetary, customer_name], axis=1)\n",
        "rfm_df.reset_index(inplace=True)\n",
        "rfm_df.columns = ['Customer ID', 'Recency', 'Frequency', 'Monetary', 'Customer Name']\n",
        "\n",
        "# Define RFM score ranges\n",
        "rfm_scores = {\n",
        "    'Recency': [5, 4, 3, 2, 1],\n",
        "    'Frequency': [1, 2, 3, 4, 5],\n",
        "    'Monetary': [1, 2, 3, 4, 5]\n",
        "}\n",
        "\n",
        "# Function to assign RFM scores\n",
        "def assign_rfm_score(value, score_ranges, metric):\n",
        "    quantiles = rfm_df[metric].quantile([0.2, 0.4, 0.6, 0.8])\n",
        "    if value <= quantiles[0.2]:\n",
        "        return score_ranges[0]\n",
        "    elif value <= quantiles[0.4]:\n",
        "        return score_ranges[1]\n",
        "    elif value <= quantiles[0.6]:\n",
        "        return score_ranges[2]\n",
        "    elif value <= quantiles[0.8]:\n",
        "        return score_ranges[3]\n",
        "    else:\n",
        "        return score_ranges[4]\n",
        "\n",
        "# Apply scoring and create RFMScore\n",
        "for metric, scores in rfm_scores.items():\n",
        "    rfm_df[f'{metric}Score'] = rfm_df[metric].apply(lambda x: assign_rfm_score(x, scores, metric))\n",
        "\n",
        "# Gabungkan skor RFM ke dalam satu label segmen\n",
        "rfm_df['RFMScore'] = rfm_df['RecencyScore'].astype(str) + rfm_df['FrequencyScore'].astype(str) + rfm_df['MonetaryScore'].astype(str)\n",
        "\n",
        "# Mencetak segmen RFM dan jumlahnya\n",
        "print(\"Customer Segments (RFM):\")\n",
        "print(rfm_df['RFMScore'].value_counts())"
      ],
      "metadata": {
        "colab": {
          "base_uri": "https://localhost:8080/"
        },
        "id": "zv-XJZvjFx4u",
        "outputId": "22a3a83b-d0b5-4ee4-a74e-14a04f8c9fe8"
      },
      "execution_count": 32,
      "outputs": [
        {
          "output_type": "stream",
          "name": "stdout",
          "text": [
            "Customer Segments (RFM):\n",
            "RFMScore\n",
            "111    45\n",
            "555    22\n",
            "112    19\n",
            "433    19\n",
            "334    17\n",
            "       ..\n",
            "144     1\n",
            "425     1\n",
            "253     1\n",
            "241     1\n",
            "154     1\n",
            "Name: count, Length: 113, dtype: int64\n"
          ]
        }
      ]
    },
    {
      "cell_type": "markdown",
      "source": [
        "**Segmentasi Pelanggan dengan RTM**\n",
        "\n",
        "*Recency* (R): Seberapa sering pelanggan melakukan pembelian (belakangan ini/recently).\n",
        "\n",
        "*Frekuensi* (F): Seberapa sering pelanggan melakukan pembelian\n",
        "\n",
        "*Moneter* (M): Berapa banyak uang yang dibelanjakan pelanggan.\n",
        "\n",
        "\n",
        "Setiap metrik RFM diberi skor (biasanya dalam skala 1 hingga 5), di mana:\n",
        "\n",
        "Skor *Recency* yang lebih tinggi (5) berarti pembelian yang lebih baru.\n",
        "\n",
        "Skor *Frekuensi* yang lebih tinggi (5) berarti pembelian yang lebih sering.\n",
        "\n",
        "Skor *Moneter* yang lebih tinggi (5) berarti pengeluaran yang lebih tinggi.\n",
        "\n",
        "Dari contoh hasil score RTM diatas, yaitu :\n",
        "\n",
        "RFMScore\n",
        "*   155 694\n",
        "*   145  53\n",
        "*   135  34\n",
        "*   125  12\n",
        "\n",
        "155: Segmen ini mewakili pelanggan dengan skor Recency 1, skor Frequency 5, dan skor Monetary 5. Ini berarti pelanggan ini melakukan pembelian relatif lama tetapi telah melakukan banyak pembelian dan menghabiskan banyak uang di masa lalu.\n",
        "\n",
        "Dari data diatas, bisa disimpulkan pelanggan dengan score **155** (berbelanja akhi-akhir ini melakukan pesanan yang sering dengan jumlah yang besar) yaitu sejumlah **694 pelanggan**.\n",
        "\n",
        "\n",
        "\n",
        "\n",
        "\n"
      ],
      "metadata": {
        "id": "3yMo35hNJdlA"
      }
    },
    {
      "cell_type": "markdown",
      "source": [
        "Top 10 Customer dengan RTM Score 155 (bagus)"
      ],
      "metadata": {
        "id": "BSwyVyFMXmOJ"
      }
    },
    {
      "cell_type": "code",
      "source": [
        "# Filter for customers with RFMScore 155\n",
        "customers_155 = rfm_df[rfm_df['RFMScore'] == '155'].copy()\n",
        "\n",
        "# Format 'Monetary' to Rupiah\n",
        "customers_155.loc[:, 'MonetaryRp'] = customers_155['Monetary'].apply(lambda x: f\"Rp{x:,.0f}\")\n",
        "\n",
        "# Display the top 10 customers with RFMScore 155\n",
        "print(\"Top 10 Customers with RFMScore 155 (Monetary in Rupiah):\")\n",
        "print(customers_155[['Customer Name', 'Recency', 'Frequency', 'MonetaryRp']].head(10))"
      ],
      "metadata": {
        "colab": {
          "base_uri": "https://localhost:8080/"
        },
        "id": "vlTIscRHQzCm",
        "outputId": "4948b46c-36e2-4f2d-bcee-93f21d8790bb"
      },
      "execution_count": 33,
      "outputs": [
        {
          "output_type": "stream",
          "name": "stdout",
          "text": [
            "Top 10 Customers with RFMScore 155 (Monetary in Rupiah):\n",
            "           Customer Name  Recency  Frequency MonetaryRp\n",
            "34         Anna Häberlin     2975         12    Rp7,888\n",
            "152          Clay Ludtke     2849         12   Rp10,881\n",
            "232        Dennis Pardue     2923          9    Rp5,481\n",
            "349     Jonathan Doherty     2959         11    Rp7,611\n",
            "536  Maribeth Schnelling     2838         10    Rp7,444\n",
            "669         Sanjit Chand     2914          9   Rp14,142\n"
          ]
        }
      ]
    },
    {
      "cell_type": "markdown",
      "source": [
        "## Analisis Produk"
      ],
      "metadata": {
        "id": "1UwkgNpgjBTz"
      }
    },
    {
      "cell_type": "code",
      "source": [
        "# Profitabilitas Produk\n",
        "\n",
        "# Group by product and sum profit\n",
        "product_profit = dataset.groupby('Product Name')['Profit'].sum()\n",
        "\n",
        "# Sort products by profit in descending order\n",
        "most_profitable = product_profit.sort_values(ascending=False)\n",
        "\n",
        "# Format profit to Rupiah\n",
        "most_profitable = most_profitable.apply(lambda x: f\"Rp{x:,.0f}\")\n",
        "\n",
        "# Display the most and least profitable products\n",
        "print(\"Most Profitable Products (in Rupiah):\")\n",
        "print(most_profitable.head(10))  # Top 10 most profitable\n",
        "\n",
        "print(\"\\nLeast Profitable Products (in Rupiah):\")\n",
        "print(most_profitable.tail(10))  # Top 10 least profitable (which will be the bottom 10)"
      ],
      "metadata": {
        "colab": {
          "base_uri": "https://localhost:8080/"
        },
        "id": "xa1weK9yi8wh",
        "outputId": "413eaf67-3b98-44d3-9ff3-87d368df0bc7"
      },
      "execution_count": 34,
      "outputs": [
        {
          "output_type": "stream",
          "name": "stdout",
          "text": [
            "Most Profitable Products (in Rupiah):\n",
            "Product Name\n",
            "Canon imageCLASS 2200 Advanced Copier                                          Rp25,200\n",
            "Fellowes PB500 Electric Punch Plastic Comb Binding Machine with Manual Bind     Rp7,753\n",
            "Hewlett Packard LaserJet 3310 Copier                                            Rp6,984\n",
            "Canon PC1060 Personal Laser Copier                                              Rp4,571\n",
            "HP Designjet T520 Inkjet Large Format Printer - 24\" Color                       Rp4,095\n",
            "Ativa V4110MDD Micro-Cut Shredder                                               Rp3,773\n",
            "3D Systems Cube Printer, 2nd Generation, Magenta                                Rp3,718\n",
            "Plantronics Savi W720 Multi-Device Wireless Headset System                      Rp3,696\n",
            "Ibico EPK-21 Electric Binding System                                            Rp3,345\n",
            "Zebra ZM400 Thermal Label Printer                                               Rp3,344\n",
            "Name: Profit, dtype: object\n",
            "\n",
            "Least Profitable Products (in Rupiah):\n",
            "Product Name\n",
            "BoxOffice By Design Rectangular and Half-Moon Meeting Room Tables    Rp-1,148\n",
            "Balt Solid Wood Round Tables                                         Rp-1,201\n",
            "Martin Yale Chadless Opener Electric Letter Opener                   Rp-1,299\n",
            "Cisco TelePresence System EX90 Videoconferencing Unit                Rp-1,811\n",
            "GBC DocuBind P400 Electric Binding System                            Rp-1,878\n",
            "Bush Advantage Collection Racetrack Conference Table                 Rp-1,934\n",
            "Chromcraft Bull-Nose Wood Oval Conference Tables & Bases             Rp-2,876\n",
            "Cubify CubeX 3D Printer Triple Head Print                            Rp-3,840\n",
            "Lexmark MX611dhe Monochrome Laser Printer                            Rp-4,590\n",
            "Cubify CubeX 3D Printer Double Head Print                            Rp-8,880\n",
            "Name: Profit, dtype: object\n"
          ]
        }
      ]
    },
    {
      "cell_type": "code",
      "source": [
        "# Kinerja Produk\n",
        "\n",
        "# Group by product and calculate metrics\n",
        "product_performance = dataset.groupby('Product Name').agg({\n",
        "    'Sales': 'sum',\n",
        "    'Discount': 'mean',  # Average discount\n",
        "    'Profit': 'sum'\n",
        "})\n",
        "\n",
        "# Format values to Rupiah and percentage\n",
        "for col in ['Sales', 'Profit']:\n",
        "    product_performance[col] = product_performance[col].apply(lambda x: f\"Rp{x:,.0f}\")\n",
        "product_performance['Discount'] = product_performance['Discount'].apply(lambda x: f\"{x:.1%}\")  # Format as percentage with 1 decimal place\n",
        "\n",
        "# Display the top 10 products' performance\n",
        "print(\"Top 10 Product Performance (in Rupiah):\")\n",
        "print(product_performance.head(10))  # Display top 10"
      ],
      "metadata": {
        "colab": {
          "base_uri": "https://localhost:8080/"
        },
        "id": "Qpy_gWpBY_O7",
        "outputId": "49f6b87f-a0b3-49a0-fb3f-4bbd44e68c82"
      },
      "execution_count": 35,
      "outputs": [
        {
          "output_type": "stream",
          "name": "stdout",
          "text": [
            "Top 10 Product Performance (in Rupiah):\n",
            "                                                      Sales Discount Profit\n",
            "Product Name                                                               \n",
            "\"While you Were Out\" Message Book, One Form per...     Rp25    13.3%   Rp10\n",
            "#10 Gummed Flap White Envelopes, 100/Box               Rp41    10.0%   Rp17\n",
            "#10 Self-Seal White Envelopes                         Rp109     5.0%   Rp52\n",
            "#10 White Business Envelopes,4 1/8 x 9 1/2            Rp489     5.7%  Rp223\n",
            "#10- 4 1/8\" x 9 1/2\" Recycled Envelopes               Rp287     8.0%  Rp115\n",
            "#10- 4 1/8\" x 9 1/2\" Security-Tint Envelopes          Rp147     7.5%   Rp65\n",
            "#10-4 1/8\" x 9 1/2\" Premium Diagonal Seam Envel...    Rp176    10.0%   Rp64\n",
            "#6 3/4 Gummed Flap White Envelopes                     Rp71    20.0%   Rp25\n",
            "1.7 Cubic Foot Compact \"Cube\" Office Refrigerators  Rp2,706     6.7%  Rp579\n",
            "1/4 Fold Party Design Invitations & White Envel...     Rp50    10.0%   Rp23\n"
          ]
        }
      ]
    },
    {
      "cell_type": "code",
      "source": [
        "# Calculate total quantity sold for each product\n",
        "product_quantity_sold = dataset.groupby('Product Name')['Quantity'].sum()\n",
        "\n",
        "# Identify slow-moving products (e.g., products sold below a certain threshold)\n",
        "slow_moving_threshold = 10  # Adjust this threshold as needed\n",
        "slow_moving_products = product_quantity_sold[product_quantity_sold < slow_moving_threshold].sort_values().head(10) # Limit to top 10\n",
        "\n",
        "# Calculate current stock levels using the 'Quantity' column\n",
        "# Assuming 'Quantity' represents the total quantity ever ordered\n",
        "current_stock = dataset.groupby('Product Name')['Quantity'].sum()\n",
        "\n",
        "# Identify products with low stock levels (e.g., below a certain threshold)\n",
        "low_stock_threshold = 5  # Adjust this threshold as needed\n",
        "low_stock_products = current_stock[current_stock < low_stock_threshold].sort_values().head(10) # Limit to top 10\n",
        "\n",
        "# Identify most stocked products (products with the highest quantity)\n",
        "most_stocked_products = product_quantity_sold.sort_values(ascending=False).head(10)\n",
        "\n",
        "# Display results\n",
        "print(\"Top 10 Slow-Moving Products:\")\n",
        "print(slow_moving_products)\n",
        "\n",
        "print(\"\\nTop 10 Low Stock Products:\")\n",
        "print(low_stock_products)\n",
        "\n",
        "print(\"\\nTop 10 Most Stocked Products:\")\n",
        "print(most_stocked_products)"
      ],
      "metadata": {
        "colab": {
          "base_uri": "https://localhost:8080/"
        },
        "id": "silWURaoaAXE",
        "outputId": "0096ac17-cd6c-424c-8d77-cc72710b7243"
      },
      "execution_count": 39,
      "outputs": [
        {
          "output_type": "stream",
          "name": "stdout",
          "text": [
            "Top 10 Slow-Moving Products:\n",
            "Product Name\n",
            "Xerox 20                                                                     1\n",
            "Global Enterprise Series Seating Low-Back Swivel/Tilt Chairs                 1\n",
            "Boston 1900 Electric Pencil Sharpener                                        1\n",
            "Bush Saratoga Collection 5-Shelf Bookcase, Hanover Cherry, *Special Order    1\n",
            "Penpower WorldCard Pro Card Scanner                                          1\n",
            "Barricks Non-Folding Utility Table with Steel Legs, Laminate Tops            2\n",
            "Ultra Commercial Grade Dual Valve Door Closer                                2\n",
            "PNY Rapid USB Car Charger - Black                                            2\n",
            "Xerox 1969                                                                   2\n",
            "Avery 5                                                                      2\n",
            "Name: Quantity, dtype: int64\n",
            "\n",
            "Top 10 Low Stock Products:\n",
            "Product Name\n",
            "Penpower WorldCard Pro Card Scanner                                          1\n",
            "Xerox 20                                                                     1\n",
            "Global Enterprise Series Seating Low-Back Swivel/Tilt Chairs                 1\n",
            "Boston 1900 Electric Pencil Sharpener                                        1\n",
            "Bush Saratoga Collection 5-Shelf Bookcase, Hanover Cherry, *Special Order    1\n",
            "Ultra Commercial Grade Dual Valve Door Closer                                2\n",
            "PNY Rapid USB Car Charger - Black                                            2\n",
            "NeatDesk Desktop Scanner & Digital Filing System                             2\n",
            "Multimedia Mailers                                                           2\n",
            "Memorex Mini Travel Drive 4 GB USB 2.0 Flash Drive                           2\n",
            "Name: Quantity, dtype: int64\n",
            "\n",
            "Top 10 Most Stocked Products:\n",
            "Product Name\n",
            "Staples                                                       215\n",
            "Staple envelope                                               170\n",
            "Easy-staple paper                                             150\n",
            "Staples in misc. colors                                        86\n",
            "KI Adjustable-Height Table                                     74\n",
            "Avery Non-Stick Binders                                        71\n",
            "Storex Dura Pro Binders                                        71\n",
            "GBC Premium Transparent Covers with Diagonal Lined Pattern     67\n",
            "Situations Contoured Folding Chairs, 4/Set                     64\n",
            "Staple-based wall hangings                                     62\n",
            "Name: Quantity, dtype: int64\n"
          ]
        }
      ]
    },
    {
      "cell_type": "markdown",
      "source": [
        "## Pengiriman dan Logistik"
      ],
      "metadata": {
        "id": "91YrWmROjD12"
      }
    },
    {
      "cell_type": "code",
      "source": [
        "# Analyze shipping cost by shipping mode (assuming shipping cost is correlated with sales)\n",
        "# This is a proxy analysis, as we don't have actual shipping cost data\n",
        "avg_sales_by_mode = dataset.groupby('Ship Mode')['Sales'].mean()\n",
        "avg_sales_by_mode = avg_sales_by_mode.apply(lambda x: f\"Rp{x:,.0f}\") # Format to Rupiah\n",
        "print(\"Average Sales by Mode (Proxy for Shipping Cost) in Rupiah:\")\n",
        "print(avg_sales_by_mode)\n",
        "\n",
        "# Identify products with highest sales (potential proxy for high shipping costs)\n",
        "products_highest_sales = dataset.groupby('Product Name')['Sales'].sum().sort_values(ascending=False).head(10)\n",
        "products_highest_sales = products_highest_sales.apply(lambda x: f\"Rp{x:,.0f}\") # Format to Rupiah\n",
        "print(\"\\nProducts with Highest Sales (Potential for High Shipping Costs) in Rupiah:\")\n",
        "print(products_highest_sales)\n",
        "\n",
        "# Analyze sales distribution (proxy for shipping cost distribution)\n",
        "sales_distribution = dataset['Sales'].describe()\n",
        "sales_distribution = sales_distribution.apply(lambda x: f\"Rp{x:,.0f}\" if isinstance(x, (int, float)) else x) # Format to Rupiah\n",
        "print(\"\\nSales Distribution (Proxy for Shipping Cost Distribution) in Rupiah:\")\n",
        "print(sales_distribution)"
      ],
      "metadata": {
        "colab": {
          "base_uri": "https://localhost:8080/"
        },
        "id": "GHhVDLJrjEsS",
        "outputId": "c00fbe27-2d69-40a5-a97f-5f4306c22e05"
      },
      "execution_count": 40,
      "outputs": [
        {
          "output_type": "stream",
          "name": "stdout",
          "text": [
            "Average Sales by Mode (Proxy for Shipping Cost) in Rupiah:\n",
            "Ship Mode\n",
            "First Class       Rp228\n",
            "Same Day          Rp236\n",
            "Second Class      Rp236\n",
            "Standard Class    Rp228\n",
            "Name: Sales, dtype: object\n",
            "\n",
            "Products with Highest Sales (Potential for High Shipping Costs) in Rupiah:\n",
            "Product Name\n",
            "Canon imageCLASS 2200 Advanced Copier                                          Rp61,600\n",
            "Fellowes PB500 Electric Punch Plastic Comb Binding Machine with Manual Bind    Rp27,453\n",
            "Cisco TelePresence System EX90 Videoconferencing Unit                          Rp22,638\n",
            "HON 5400 Series Task Chairs for Big and Tall                                   Rp21,871\n",
            "GBC DocuBind TL300 Electric Binding System                                     Rp19,823\n",
            "GBC Ibimaster 500 Manual ProClick Binding System                               Rp19,024\n",
            "Hewlett Packard LaserJet 3310 Copier                                           Rp18,840\n",
            "HP Designjet T520 Inkjet Large Format Printer - 24\" Color                      Rp18,375\n",
            "GBC DocuBind P400 Electric Binding System                                      Rp17,965\n",
            "High Speed Automatic Electric Letter Opener                                    Rp17,030\n",
            "Name: Sales, dtype: object\n",
            "\n",
            "Sales Distribution (Proxy for Shipping Cost Distribution) in Rupiah:\n",
            "count     Rp9,994\n",
            "mean        Rp230\n",
            "std         Rp623\n",
            "min           Rp0\n",
            "25%          Rp17\n",
            "50%          Rp54\n",
            "75%         Rp210\n",
            "max      Rp22,638\n",
            "Name: Sales, dtype: object\n"
          ]
        }
      ]
    },
    {
      "cell_type": "code",
      "source": [],
      "metadata": {
        "id": "KQHuP_H9L989"
      },
      "execution_count": 40,
      "outputs": []
    }
  ]
}